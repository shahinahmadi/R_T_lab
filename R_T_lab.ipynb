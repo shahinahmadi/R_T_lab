{
 "cells": [
  {
   "cell_type": "markdown",
   "id": "8409e525",
   "metadata": {},
   "source": [
    "## HVL "
   ]
  },
  {
   "cell_type": "markdown",
   "id": "df7f5428",
   "metadata": {},
   "source": [
    "### Thickness of the Cu in mm"
   ]
  },
  {
   "cell_type": "code",
   "execution_count": 2,
   "id": "1b1077f7",
   "metadata": {},
   "outputs": [],
   "source": [
    "Thickness=[0,0.5,1,1.5,2,2.5]"
   ]
  },
  {
   "cell_type": "markdown",
   "id": "fc3f626f",
   "metadata": {},
   "source": [
    "### Total charge"
   ]
  },
  {
   "cell_type": "code",
   "execution_count": 3,
   "id": "b6e0ab88",
   "metadata": {},
   "outputs": [],
   "source": [
    "Charge=[0.402,0.396,0.341,0.343,0.320,0.316,0.268,0.264,0.231,0.232,0.199,0.2]"
   ]
  },
  {
   "cell_type": "code",
   "execution_count": 4,
   "id": "eae73786",
   "metadata": {},
   "outputs": [
    {
     "name": "stdout",
     "output_type": "stream",
     "text": [
      "[0.399, 0.342, 0.318, 0.266, 0.2315, 0.1995]\n"
     ]
    }
   ],
   "source": [
    "n=0\n",
    "Charge_ave=[]\n",
    "Count=[0,2,4,6,8,10]\n",
    "for i in Count:\n",
    "    Charge_ave.append(((Charge[i]+Charge[i+1])/2))\n",
    "print(Charge_ave)\n",
    "\n",
    "\n",
    "    "
   ]
  },
  {
   "cell_type": "code",
   "execution_count": 5,
   "id": "3a284976",
   "metadata": {},
   "outputs": [
    {
     "data": {
      "image/png": "[encoded data removed]",
      "text/plain": [
       "<Figure size 432x288 with 1 Axes>"
      ]
     },
     "metadata": {
      "needs_background": "light"
     },
     "output_type": "display_data"
    }
   ],
   "source": [
    "import matplotlib.pyplot as plt\n",
    "import numpy as np\n",
    "import matplotlib.pyplot as plt\n",
    "maximum=max(Charge_ave)\n",
    "\n",
    "Charge_ave_new=[]\n",
    "\n",
    "for i in Charge_ave:\n",
    "    j=i/maximum\n",
    "    Charge_ave_new.append(j)\n",
    "    \n",
    "\n",
    "a = 1\n",
    "b = 0.3\n",
    "c = 0\n",
    "x = np.linspace(0, 10, 256, endpoint = True)\n",
    "y = (a * np.exp(-b*x)) + c\n",
    "plt.plot(x, y, '-r', label=r'$y = 5e^{-2x} + 1$')\n",
    "plt.scatter(Thickness,Charge_ave_new)\n",
    "plt.xlabel('Thickness (mm)')\n",
    "plt.ylabel('Normalized Total charge (nc)')\n",
    "plt.xlim(0,3)\n",
    "plt.savefig('Gas_price_figure.pdf', dpi=300)\n",
    "plt.show()"
   ]
  },
  {
   "cell_type": "markdown",
   "id": "c0cb9bdd",
   "metadata": {},
   "source": [
    "## Absolute dose calculation"
   ]
  },
  {
   "cell_type": "code",
   "execution_count": 3,
   "id": "a8a6888e",
   "metadata": {},
   "outputs": [],
   "source": [
    "Charge=[33.92,33.94,33.80,33.88,-34.03,-34.03,33.17,33.24,33.12,33.07,-33.30,-33.37,34.14,34.18,34.08,34.19,-34.28,-34.21]"
   ]
  },
  {
   "cell_type": "code",
   "execution_count": 4,
   "id": "1addbcbe",
   "metadata": {},
   "outputs": [
    {
     "name": "stdout",
     "output_type": "stream",
     "text": [
      "[33.93, 33.84, -34.03, 33.205, 33.095, -33.334999999999994, 34.16, 34.135, -34.245000000000005]\n"
     ]
    }
   ],
   "source": [
    "n=0\n",
    "Charge_ave=[]\n",
    "Count=[0,2,4,6,8,10,12,14,16]\n",
    "for i in Count:\n",
    "    Charge_ave.append(((Charge[i]+Charge[i+1])/2))\n",
    "print(Charge_ave)"
   ]
  },
  {
   "cell_type": "markdown",
   "id": "bbc9bb52",
   "metadata": {},
   "source": [
    "### Corrcting the reading values"
   ]
  },
  {
   "cell_type": "markdown",
   "id": "edfe6c3d",
   "metadata": {},
   "source": [
    "### Recombination correction for 300 keV"
   ]
  },
  {
   "cell_type": "code",
   "execution_count": 11,
   "id": "867505dc",
   "metadata": {},
   "outputs": [
    {
     "name": "stdout",
     "output_type": "stream",
     "text": [
      "1.0008873114463177\n"
     ]
    }
   ],
   "source": [
    "v_h=-300\n",
    "v_l=-150\n",
    "m_h=33.93\n",
    "m_l=33.84\n",
    "P_ion= (1-(v_h/v_l)**2)/((m_h/m_l)-(v_h/v_l)**2)\n",
    "print(P_ion)"
   ]
  },
  {
   "cell_type": "markdown",
   "id": "cc439ae3",
   "metadata": {},
   "source": [
    "### Recombination correction for 180 keV"
   ]
  },
  {
   "cell_type": "code",
   "execution_count": 12,
   "id": "880ac88d",
   "metadata": {},
   "outputs": [
    {
     "name": "stdout",
     "output_type": "stream",
     "text": [
      "1.0011091504915552\n"
     ]
    }
   ],
   "source": [
    "v_h=-300\n",
    "v_l=-150\n",
    "m_h=33.205\n",
    "m_l=33.095\n",
    "P_ion= (1-(v_h/v_l)**2)/((m_h/m_l)-(v_h/v_l)**2)\n",
    "print(P_ion)"
   ]
  },
  {
   "cell_type": "markdown",
   "id": "9c7a8910",
   "metadata": {},
   "source": [
    "### Recombination correction for 100 keV"
   ]
  },
  {
   "cell_type": "code",
   "execution_count": 13,
   "id": "ea043a1f",
   "metadata": {},
   "outputs": [
    {
     "name": "stdout",
     "output_type": "stream",
     "text": [
      "1.0002441883180309\n"
     ]
    }
   ],
   "source": [
    "v_h=-300\n",
    "v_l=-150\n",
    "m_h=34.16\n",
    "m_l=34.135\n",
    "P_ion= (1-(v_h/v_l)**2)/((m_h/m_l)-(v_h/v_l)**2)\n",
    "print(P_ion)"
   ]
  },
  {
   "cell_type": "markdown",
   "id": "3ec95b58",
   "metadata": {},
   "source": [
    "### Polarization correction for 300 keV"
   ]
  },
  {
   "cell_type": "code",
   "execution_count": 17,
   "id": "54531f9e",
   "metadata": {},
   "outputs": [
    {
     "name": "stdout",
     "output_type": "stream",
     "text": [
      "1.0014736221632774\n"
     ]
    }
   ],
   "source": [
    "M_n=33.93\n",
    "M_p=-34.03\n",
    "P_pol =abs((M_p-M_n)/(2*M_n))\n",
    "print(P_pol)"
   ]
  },
  {
   "cell_type": "markdown",
   "id": "9b38fd67",
   "metadata": {},
   "source": [
    "### Polarization correction for 180 keV"
   ]
  },
  {
   "cell_type": "code",
   "execution_count": 18,
   "id": "5b3981ab",
   "metadata": {},
   "outputs": [
    {
     "name": "stdout",
     "output_type": "stream",
     "text": [
      "1.0021834061135373\n"
     ]
    }
   ],
   "source": [
    "M_n=33.205\n",
    "M_p=-33.35\n",
    "P_pol =abs((M_p-M_n)/(2*M_n))\n",
    "print(P_pol)"
   ]
  },
  {
   "cell_type": "markdown",
   "id": "3d78557e",
   "metadata": {},
   "source": [
    "### Polarization correction for 100 keV"
   ]
  },
  {
   "cell_type": "code",
   "execution_count": 19,
   "id": "b0ebda2a",
   "metadata": {},
   "outputs": [
    {
     "name": "stdout",
     "output_type": "stream",
     "text": [
      "1.0011709601873537\n"
     ]
    }
   ],
   "source": [
    "M_n=34.16\n",
    "M_p=-34.24\n",
    "P_pol =abs((M_p-M_n)/(2*M_n))\n",
    "print(P_pol)"
   ]
  },
  {
   "cell_type": "markdown",
   "id": "3ff13e3f",
   "metadata": {},
   "source": [
    "### Tempreture correction"
   ]
  },
  {
   "cell_type": "code",
   "execution_count": 24,
   "id": "82eac651",
   "metadata": {},
   "outputs": [
    {
     "name": "stdout",
     "output_type": "stream",
     "text": [
      "1.0177682435358182\n"
     ]
    }
   ],
   "source": [
    "T=21.3# Celcius\n",
    "p=745 # mm\n",
    "p=p*0.133322 # converting into kPa\n",
    "P_T=((273.2+T)/(295.2))*(101.33/p)\n",
    "print(P_T)\n"
   ]
  },
  {
   "cell_type": "markdown",
   "id": "21d3a72b",
   "metadata": {},
   "source": [
    "### Total correction 300 keV"
   ]
  },
  {
   "cell_type": "code",
   "execution_count": 32,
   "id": "90ce64a5",
   "metadata": {},
   "outputs": [
    {
     "name": "stdout",
     "output_type": "stream",
     "text": [
      "1.01923853904\n"
     ]
    }
   ],
   "source": [
    "Tot_300=1.0008*1.0014*1.017\n",
    "print(Tot_300)"
   ]
  },
  {
   "cell_type": "markdown",
   "id": "2422a0e8",
   "metadata": {},
   "source": [
    "### Total correction 180 keV"
   ]
  },
  {
   "cell_type": "code",
   "execution_count": 34,
   "id": "a7248929",
   "metadata": {},
   "outputs": [
    {
     "name": "stdout",
     "output_type": "stream",
     "text": [
      "1.0202567492699999\n"
     ]
    }
   ],
   "source": [
    "Tot_180=1.0011*1.0021*1.017\n",
    "print(Tot_180)"
   ]
  },
  {
   "cell_type": "markdown",
   "id": "7f064775",
   "metadata": {},
   "source": [
    "### Total correction 100 keV"
   ]
  },
  {
   "cell_type": "code",
   "execution_count": 36,
   "id": "d68d1d03",
   "metadata": {},
   "outputs": [
    {
     "name": "stdout",
     "output_type": "stream",
     "text": [
      "1.0183223237399999\n"
     ]
    }
   ],
   "source": [
    "Tot_100=1.0002*1.0011*1.017\n",
    "print(Tot_100)\n"
   ]
  },
  {
   "cell_type": "markdown",
   "id": "82e3c14e",
   "metadata": {},
   "source": [
    "### Corrected reading"
   ]
  },
  {
   "cell_type": "code",
   "execution_count": 1,
   "id": "57863b4a",
   "metadata": {},
   "outputs": [
    {
     "name": "stdout",
     "output_type": "stream",
     "text": [
      "34.57467\n",
      "33.869099999999996\n",
      "34.774879999999996\n"
     ]
    }
   ],
   "source": [
    "# For 300 keV\n",
    "Corrected300=33.93*1.019\n",
    "print(Corrected300)\n",
    "\n",
    "# For 180 keV\n",
    "Corrected180=33.205*1.02\n",
    "print(Corrected180)\n",
    "\n",
    "# For 100 keV\n",
    "Corrected100=34.16*1.018\n",
    "print(Corrected100)\n"
   ]
  },
  {
   "cell_type": "code",
   "execution_count": null,
   "id": "00d50eeb",
   "metadata": {},
   "outputs": [],
   "source": []
  }
 ],
 "metadata": {
  "kernelspec": {
   "display_name": "Python 3",
   "language": "python",
   "name": "python3"
  },
  "language_info": {
   "codemirror_mode": {
    "name": "ipython",
    "version": 3
   },
   "file_extension": ".py",
   "mimetype": "text/x-python",
   "name": "python",
   "nbconvert_exporter": "python",
   "pygments_lexer": "ipython3",
   "version": "3.8.8"
  }
 },
 "nbformat": 4,
 "nbformat_minor": 5
}
